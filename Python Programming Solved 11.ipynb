{
 "cells": [
  {
   "cell_type": "code",
   "execution_count": null,
   "metadata": {},
   "outputs": [],
   "source": [
    "1.\tWrite a Python program to Extract Unique values dictionary values?\n",
    "2.\tWrite a Python program to find the sum of all items in a dictionary?\n",
    "3.\tWrite a Python program to Merging two Dictionaries?\n",
    "4.\tWrite a Python program to convert key-values list to flat dictionary?\n",
    "5.\tWrite a Python program to insertion at the beginning in OrderedDict?\n",
    "6.\tWrite a Python program to check order of character in string using OrderedDict()?\n",
    "7.\tWrite a Python program to sort Python Dictionaries by Key or Value?\n"
   ]
  },
  {
   "cell_type": "code",
   "execution_count": 79,
   "metadata": {},
   "outputs": [
    {
     "name": "stdout",
     "output_type": "stream",
     "text": [
      "[45, 74, 53]\n",
      "The unique_values are  {'66', '98', '35', '99'}\n"
     ]
    }
   ],
   "source": [
    "#1.Write a Python program to Extract Unique values, dictionary values?\n",
    "\n",
    "Dict = {'Chetan': 45, 'Rahul' : 45 , 'Baban' : 74 , 'Bubun' : 53}\n",
    "l = []\n",
    "\n",
    "for val in (Dict.values()):\n",
    "    \n",
    "    if val in l :\n",
    "        pass\n",
    "    else:\n",
    "        l.append(val)\n",
    "\n",
    "print(l)\n",
    "\n",
    "#OR\n",
    "\n",
    "# Set Comprehension\n",
    "\n",
    "Dict_1 = [{'Chemistry': \"66\", 'Biology' : \"99\" , 'Java' : \"35\" , 'C++' : \"98\"}]\n",
    "\n",
    "S = set(val for j in Dict_1 for val in j.values())\n",
    "\n",
    "print('The unique_values are ', S)\n"
   ]
  },
  {
   "cell_type": "code",
   "execution_count": 78,
   "metadata": {},
   "outputs": [
    {
     "name": "stdout",
     "output_type": "stream",
     "text": [
      "Original list is : [45, 0, 0, 47]\n",
      "The sum of the values is 92\n"
     ]
    }
   ],
   "source": [
    "# 2.Write a Python program to find the sum of all items in a dictionary?\n",
    "\n",
    "sum_1 = {'Chemistry': 45, 'Biology' : 0 , 'Java' : 0 , 'C++' : 47}\n",
    "total = 0\n",
    "\n",
    "L1 = list(sum_1.values())\n",
    "print('Original list is :', L1)\n",
    "\n",
    "for i in range(0,len(L1)):\n",
    "    total = total + L1[i]\n",
    "print('The sum of the values is' , total)"
   ]
  },
  {
   "cell_type": "code",
   "execution_count": 21,
   "metadata": {},
   "outputs": [
    {
     "name": "stdout",
     "output_type": "stream",
     "text": [
      "{'d': 6, 'c': 4, 'a': 10, 'b': 8}\n"
     ]
    }
   ],
   "source": [
    "#3.Write a Python program to Merging two Dictionaries?\n",
    "def Merge(dict1, dict2):\n",
    "    return dict2.update(dict1)\n",
    "\n",
    "dict1 = {'a': 10, 'b': 8}\n",
    "dict2 = {'d': 6, 'c': 4}\n",
    "\n",
    "Merge(dict1,dict2)\n",
    "\n",
    "print(dict2)"
   ]
  },
  {
   "cell_type": "code",
   "execution_count": 26,
   "metadata": {},
   "outputs": [
    {
     "name": "stdout",
     "output_type": "stream",
     "text": [
      "{1: 'Jan', 2: 'Feb', 3: 'March'}\n"
     ]
    }
   ],
   "source": [
    "#4.Write a Python program to convert key-values list to flat dictionary?\n",
    "test_dict = {'month' : [1, 2, 3],\n",
    "             'name' : ['Jan', 'Feb', 'March']}\n",
    "dict_4 = dict(zip(test_dict['month'], test_dict['name'])) # Using zip and dictionary to convert key-values.\n",
    "\n",
    "print(dict_4)"
   ]
  },
  {
   "cell_type": "code",
   "execution_count": 55,
   "metadata": {},
   "outputs": [
    {
     "name": "stdout",
     "output_type": "stream",
     "text": [
      "OrderedDict([('bubun', '45'), ('Chetan', '99'), ('Rahul', '54')])\n"
     ]
    }
   ],
   "source": [
    "#5.Write a Python program to insertion at the beginning in OrderedDict?\n",
    "\n",
    "from collections import OrderedDict\n",
    "\n",
    "my_dict = OrderedDict([('Chetan', '99') , ('Rahul','54')])\n",
    "\n",
    "my_dict.update({'bubun': '45'})\n",
    "\n",
    "my_dict.move_to_end('bubun', last=False)\n",
    "\n",
    "print((my_dict))\n"
   ]
  },
  {
   "cell_type": "code",
   "execution_count": 60,
   "metadata": {},
   "outputs": [
    {
     "data": {
      "text/plain": [
       "True"
      ]
     },
     "execution_count": 60,
     "metadata": {},
     "output_type": "execute_result"
    }
   ],
   "source": [
    "#6.Write a Python program to check order of character in string using OrderedDict()?\n",
    "\n",
    "from collections import OrderedDict\n",
    "\n",
    "def check(input, pattern):\n",
    "    \n",
    "    dictkeys = OrderedDict.fromkeys(input)\n",
    "    \n",
    "    ptrlen = 0\n",
    "    \n",
    "    for key,value in dictkeys.items(): \n",
    "        if (key == pattern[ptrlen]):\n",
    "            ptrlen = ptrlen + 1\n",
    "        \n",
    "        if ((ptrlen) == (len(pattern))):\n",
    "            return True\n",
    "        \n",
    "    return False\n",
    "\n",
    "input = 'chetan'\n",
    "pattern = 'et'\n",
    "check(input,pattern)"
   ]
  },
  {
   "cell_type": "code",
   "execution_count": 77,
   "metadata": {},
   "outputs": [
    {
     "name": "stdout",
     "output_type": "stream",
     "text": [
      "The sorted list via keys is :  {'a': 8, 'b': 5, 'c': 9}\n"
     ]
    }
   ],
   "source": [
    "#7.Write a Python program to sort Python Dictionaries by Key or Value?\n",
    "\n",
    "D = {'b': 5,'a':8,'c':9}\n",
    "\n",
    "l = [('b', 5), ('a', 8) ,('c', 9) ]\n",
    "l.sort()\n",
    "\n",
    "l = dict(l)\n",
    "# \n",
    "print('The sorted list via keys is : ',l)\n",
    "\n",
    "    "
   ]
  },
  {
   "cell_type": "code",
   "execution_count": null,
   "metadata": {},
   "outputs": [],
   "source": []
  },
  {
   "cell_type": "code",
   "execution_count": null,
   "metadata": {},
   "outputs": [],
   "source": []
  },
  {
   "cell_type": "code",
   "execution_count": null,
   "metadata": {},
   "outputs": [],
   "source": []
  },
  {
   "cell_type": "code",
   "execution_count": null,
   "metadata": {},
   "outputs": [],
   "source": []
  },
  {
   "cell_type": "code",
   "execution_count": null,
   "metadata": {},
   "outputs": [],
   "source": []
  },
  {
   "cell_type": "code",
   "execution_count": null,
   "metadata": {},
   "outputs": [],
   "source": []
  }
 ],
 "metadata": {
  "kernelspec": {
   "display_name": "Python 3",
   "language": "python",
   "name": "python3"
  },
  "language_info": {
   "codemirror_mode": {
    "name": "ipython",
    "version": 3
   },
   "file_extension": ".py",
   "mimetype": "text/x-python",
   "name": "python",
   "nbconvert_exporter": "python",
   "pygments_lexer": "ipython3",
   "version": "3.8.5"
  }
 },
 "nbformat": 4,
 "nbformat_minor": 4
}
