{
 "cells": [
  {
   "cell_type": "raw",
   "metadata": {},
   "source": [
    "1.\tWrite a Python program to find sum of elements in list?\n",
    "2.\tWrite a Python program to  Multiply all numbers in the list?\n",
    "3.\tWrite a Python program to find smallest number in a list?\n",
    "4.\tWrite a Python program to find largest number in a list?\n",
    "5.\tWrite a Python program to find second largest number in a list?\n",
    "6.\tWrite a Python program to find N largest elements from a list?\n",
    "7.\tWrite a Python program to print even numbers in a list?\n",
    "8.\tWrite a Python program to print odd numbers in a List?\n",
    "9.\tWrite a Python program to Remove empty List from List?\n",
    "10.\tWrite a Python program to Cloning or Copying a list?\n",
    "11.\tWrite a Python program to Count occurrences of an element in a list?\n"
   ]
  },
  {
   "cell_type": "code",
   "execution_count": 11,
   "metadata": {},
   "outputs": [
    {
     "name": "stdout",
     "output_type": "stream",
     "text": [
      "28\n"
     ]
    }
   ],
   "source": [
    "#1.Write a Python program to find sum of elements in list?\n",
    "\n",
    "L = [4,8,9,7]\n",
    "total = 0\n",
    "\n",
    "for i in range(0,len(L)):\n",
    "    total = total + L[i]\n",
    "\n",
    "print(total)"
   ]
  },
  {
   "cell_type": "code",
   "execution_count": 14,
   "metadata": {},
   "outputs": [
    {
     "name": "stdout",
     "output_type": "stream",
     "text": [
      "28\n"
     ]
    }
   ],
   "source": [
    "i = 0\n",
    "total = 0\n",
    "\n",
    "while i < len(L):\n",
    "    total = total + L[i]\n",
    "    i = i+1\n",
    "    \n",
    "print(total)\n"
   ]
  },
  {
   "cell_type": "code",
   "execution_count": 16,
   "metadata": {},
   "outputs": [
    {
     "name": "stdout",
     "output_type": "stream",
     "text": [
      "360\n"
     ]
    }
   ],
   "source": [
    "#2.Write a Python program to  Multiply all numbers in the list?\n",
    "\n",
    "L = [2,4,5,9]\n",
    "total = 1\n",
    "i = 0\n",
    "\n",
    "while i < len(L):\n",
    "    total = total * L[i]\n",
    "    i += 1\n",
    "    \n",
    "print(total)"
   ]
  },
  {
   "cell_type": "code",
   "execution_count": 29,
   "metadata": {},
   "outputs": [
    {
     "name": "stdin",
     "output_type": "stream",
     "text": [
      "List:  24,-4,89,99\n"
     ]
    },
    {
     "name": "stdout",
     "output_type": "stream",
     "text": [
      "The list is : [24, -4, 89, 99]\n",
      "The smalles number in the list -4\n"
     ]
    }
   ],
   "source": [
    "#3.Write a Python program to find smallest number in a list?\n",
    "\n",
    "l = [int(l) for l in input('List: ').split(\",\")]\n",
    "print('The list is :',l)\n",
    "\n",
    "#let \n",
    "min_1 = l[0]\n",
    "\n",
    "for i in range(len(l)):\n",
    "    if l[i] < min_1:\n",
    "        min_1 = l[i]\n",
    "\n",
    "print('The smallest number in the list', min_1)"
   ]
  },
  {
   "cell_type": "code",
   "execution_count": 33,
   "metadata": {},
   "outputs": [
    {
     "name": "stdin",
     "output_type": "stream",
     "text": [
      "List : 24,78,-89,99\n"
     ]
    },
    {
     "name": "stdout",
     "output_type": "stream",
     "text": [
      "The list is : [24, 78, -89, 99]\n",
      "The largest number in the list is: 99\n"
     ]
    }
   ],
   "source": [
    "#4.Write a Python program to find largest number in a list?\n",
    "\n",
    "l =[int(l) for l in input('List :').split(\",\")] # Using list comrehension to create a list \n",
    "print('The list is :', l)\n",
    "\n",
    "#let\n",
    "max_1 = l[0]\n",
    "\n",
    "for i in range(len(l)):\n",
    "    if l[i] > max_1:\n",
    "        max_1 = l[i]\n",
    "    \n",
    "print('The largest number in the list is:', max_1)"
   ]
  },
  {
   "cell_type": "code",
   "execution_count": 56,
   "metadata": {},
   "outputs": [
    {
     "name": "stdin",
     "output_type": "stream",
     "text": [
      "List : 24,78,-98,99,0,66\n"
     ]
    },
    {
     "name": "stdout",
     "output_type": "stream",
     "text": [
      "The list is : [24, 78, -98, 99, 0, 66]\n",
      "The largest number in the list is: 78\n"
     ]
    }
   ],
   "source": [
    "#5.Write a Python program to find second largest number in a list?\n",
    "\n",
    "l =[int(l) for l in input('List :').split(\",\")] # Using list comrehension to create a list \n",
    "print('The list is :', l)\n",
    "\n",
    "#let\n",
    "l.remove(max(l))\n",
    "    \n",
    "print('The largest number in the list is:', max(l))\n"
   ]
  },
  {
   "cell_type": "code",
   "execution_count": 90,
   "metadata": {},
   "outputs": [
    {
     "name": "stdin",
     "output_type": "stream",
     "text": [
      "Enter the number 24,54,99,89\n"
     ]
    },
    {
     "name": "stdout",
     "output_type": "stream",
     "text": [
      "[24, 54, 99, 89]\n",
      "[54, 89]\n"
     ]
    }
   ],
   "source": [
    "#6.Write a Python program to find N largest elements from a list.\n",
    "\n",
    "\n",
    "def N_largest(l,N):\n",
    "    final_list = []\n",
    "    max_1 = l[0]\n",
    "\n",
    "    for i in range(0,N):\n",
    "        for j in range(len(l)):\n",
    "            l[i] = max_1\n",
    "            max_1 = l[i]\n",
    "        \n",
    "        l.remove(max_1)\n",
    "        final_list.append(max_1)\n",
    "    print(l)\n",
    "    \n",
    "    \n",
    "#Dirver Code\n",
    "l =[int (l) for l in input('Enter the number').split(',')]\n",
    "print(l)       \n",
    "\n",
    "N_largest(l,2)"
   ]
  },
  {
   "cell_type": "code",
   "execution_count": 104,
   "metadata": {},
   "outputs": [
    {
     "name": "stdin",
     "output_type": "stream",
     "text": [
      "Enter the number: 2\n"
     ]
    },
    {
     "data": {
      "text/plain": [
       "[89, 99]"
      ]
     },
     "execution_count": 104,
     "metadata": {},
     "output_type": "execute_result"
    }
   ],
   "source": [
    "#6.Write a Python program to find N largest elements from a list. \n",
    "l = [74,78,99,89]\n",
    "\n",
    "l.sort()\n",
    "\n",
    "n = int(input('Enter the number:'))\n",
    "\n",
    "l[-n::]\n",
    "\n",
    "\n",
    "    "
   ]
  },
  {
   "cell_type": "code",
   "execution_count": 25,
   "metadata": {},
   "outputs": [],
   "source": [
    "#7.Write a Python program to print even numbers in a list?\n",
    "\n",
    "def even_num(l):\n",
    "    \n",
    "    for i in l:\n",
    "        if i % 2 == 0:\n",
    "            print(i)\n",
    "        else:\n",
    "            pass"
   ]
  },
  {
   "cell_type": "code",
   "execution_count": 26,
   "metadata": {},
   "outputs": [
    {
     "name": "stdout",
     "output_type": "stream",
     "text": [
      "8\n",
      "6\n",
      "4\n"
     ]
    }
   ],
   "source": [
    "l = [5,9,8,6,4]\n",
    "even_num(l)"
   ]
  },
  {
   "cell_type": "code",
   "execution_count": 27,
   "metadata": {},
   "outputs": [
    {
     "name": "stdout",
     "output_type": "stream",
     "text": [
      "5\n",
      "9\n"
     ]
    }
   ],
   "source": [
    "#8.Write a Python program to print odd numbers in a List?\n",
    "\n",
    "def odd_num(l):\n",
    "    \n",
    "    for i in l:\n",
    "        if i % 2 != 0:\n",
    "            print(i)\n",
    "        else:\n",
    "            pass\n",
    "        \n",
    "l = [5,9,8,6]\n",
    "odd_num(l)\n"
   ]
  },
  {
   "cell_type": "code",
   "execution_count": 47,
   "metadata": {},
   "outputs": [
    {
     "name": "stdout",
     "output_type": "stream",
     "text": [
      "The required list is :[[3], [8]]\n"
     ]
    }
   ],
   "source": [
    "#9.Write a Python program to Remove empty List from List?\n",
    "\n",
    "l1 = [[],[3],[8]]\n",
    "\n",
    "l = [i for i in l1 if i != [] ]\n",
    "\n",
    "print('The required list is :' + str(l))"
   ]
  },
  {
   "cell_type": "code",
   "execution_count": 59,
   "metadata": {},
   "outputs": [
    {
     "name": "stdout",
     "output_type": "stream",
     "text": [
      "[7, 4, 5, 6]\n"
     ]
    }
   ],
   "source": [
    "#10.Write a Python program to Cloning or Copying a list?\n",
    "\n",
    "l = [7,4,5,6]\n",
    "l1 = []\n",
    "for i in l:\n",
    "    l1.append(i)\n",
    "print(l1)\n",
    "    "
   ]
  },
  {
   "cell_type": "code",
   "execution_count": 70,
   "metadata": {},
   "outputs": [
    {
     "name": "stdout",
     "output_type": "stream",
     "text": [
      "The number 8 has occured for 5 times\n"
     ]
    }
   ],
   "source": [
    "#11.Write a Python program to Count occurrences of an element in a list?\n",
    "def count_test(l,x):\n",
    "    return l.count(x)\n",
    "\n",
    "l = [8, 6, 8, 10, 8, 20, 10, 8, 8]\n",
    "x = 8\n",
    "print('The number {} has occured for {} times'.format(x, count_test(l,x)))"
   ]
  },
  {
   "cell_type": "code",
   "execution_count": null,
   "metadata": {},
   "outputs": [],
   "source": []
  },
  {
   "cell_type": "code",
   "execution_count": null,
   "metadata": {},
   "outputs": [],
   "source": []
  },
  {
   "cell_type": "code",
   "execution_count": null,
   "metadata": {},
   "outputs": [],
   "source": []
  },
  {
   "cell_type": "code",
   "execution_count": null,
   "metadata": {},
   "outputs": [],
   "source": []
  },
  {
   "cell_type": "code",
   "execution_count": null,
   "metadata": {},
   "outputs": [],
   "source": []
  },
  {
   "cell_type": "code",
   "execution_count": null,
   "metadata": {},
   "outputs": [],
   "source": []
  },
  {
   "cell_type": "code",
   "execution_count": null,
   "metadata": {},
   "outputs": [],
   "source": []
  },
  {
   "cell_type": "code",
   "execution_count": null,
   "metadata": {},
   "outputs": [],
   "source": []
  },
  {
   "cell_type": "code",
   "execution_count": null,
   "metadata": {},
   "outputs": [],
   "source": []
  },
  {
   "cell_type": "code",
   "execution_count": null,
   "metadata": {},
   "outputs": [],
   "source": []
  },
  {
   "cell_type": "code",
   "execution_count": null,
   "metadata": {},
   "outputs": [],
   "source": []
  },
  {
   "cell_type": "code",
   "execution_count": null,
   "metadata": {},
   "outputs": [],
   "source": []
  }
 ],
 "metadata": {
  "kernelspec": {
   "display_name": "Python 3",
   "language": "python",
   "name": "python3"
  },
  "language_info": {
   "codemirror_mode": {
    "name": "ipython",
    "version": 3
   },
   "file_extension": ".py",
   "mimetype": "text/x-python",
   "name": "python",
   "nbconvert_exporter": "python",
   "pygments_lexer": "ipython3",
   "version": "3.8.5"
  }
 },
 "nbformat": 4,
 "nbformat_minor": 4
}
