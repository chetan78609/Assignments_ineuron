{
 "cells": [
  {
   "cell_type": "raw",
   "metadata": {},
   "source": [
    "1.Write a program that calculates and prints the value according to the given formula:\n",
    "\n",
    "Q = Square root of [(2 * C * D)/H]\n",
    "\n",
    "Following are the fixed values of C and H:\n",
    "C is 50. H is 30.\n",
    "D is the variable whose values should be input to your program in a comma-separated sequence.\n",
    "\n",
    "Example\n",
    "\n",
    "Let us assume the following comma separated input sequence is given to the program:\n",
    "100,150,180\n",
    "\n",
    "The output of the program should be:\n",
    "18,22,24\n"
   ]
  },
  {
   "cell_type": "code",
   "execution_count": 22,
   "metadata": {},
   "outputs": [
    {
     "name": "stdin",
     "output_type": "stream",
     "text": [
      " 22,56,89\n"
     ]
    },
    {
     "name": "stdout",
     "output_type": "stream",
     "text": [
      "['2', '2', '3']\n"
     ]
    }
   ],
   "source": [
    "C = 50 \n",
    "H = 30\n",
    "\n",
    "L = []\n",
    "\n",
    "import math\n",
    "\n",
    "value = [x for x in input().split(',') ]\n",
    "\n",
    "for D in value:\n",
    "    Q = str(int(round(math.sqrt(2*50*float(D))/30)))\n",
    "    L.append(Q)\n",
    "print(L)\n",
    "    "
   ]
  },
  {
   "cell_type": "raw",
   "metadata": {},
   "source": [
    "2.Write a program which takes 2 digits, X,Y as input and generates a 2-dimensional array. The element value in the i-th row and j-th column of the array should be i*j.\n",
    "\n",
    "Note: i=0,1.., X-1; j=0,1,¡¬Y-1.\n",
    "\n",
    "Example\n",
    "\n",
    "Suppose the following inputs are given to the program:\n",
    "\n",
    "3,5\n",
    "\n",
    "Then, the output of the program should be:\n",
    "\n",
    "[[0, 0, 0, 0, 0], [0, 1, 2, 3, 4], [0, 2, 4, 6, 8]] \n"
   ]
  },
  {
   "cell_type": "code",
   "execution_count": 34,
   "metadata": {},
   "outputs": [
    {
     "name": "stdin",
     "output_type": "stream",
     "text": [
      "Enter the number of Rows :  3\n",
      "Enter the number of Cols :  6\n"
     ]
    },
    {
     "name": "stdout",
     "output_type": "stream",
     "text": [
      "[0, 0, 0, 0, 0, 0]\n",
      "[0, 1, 2, 3, 4, 5]\n",
      "[0, 2, 4, 6, 8, 10]\n"
     ]
    }
   ],
   "source": [
    "rows = int(input('Enter the number of Rows : '))\n",
    "cols = int(input('Enter the number of Cols : '))\n",
    "\n",
    "grid = []\n",
    "\n",
    "for i in range(rows):\n",
    "    row =[]\n",
    "    for j in range(cols):\n",
    "        row.append(i*j)\n",
    "    grid.append(row)\n",
    "    print(row)\n"
   ]
  },
  {
   "cell_type": "raw",
   "metadata": {},
   "source": [
    "3.Write a program that accepts a comma separated sequence of words as input and prints the words in a comma-separated sequence after sorting them alphabetically.\n",
    "\n",
    "Suppose the following input is supplied to the program:\n",
    "\n",
    "without,hello,bag,world\n",
    "\n",
    "Then, the output should be:\n",
    "\n",
    "bag,hello,without,world\n"
   ]
  },
  {
   "cell_type": "code",
   "execution_count": 53,
   "metadata": {},
   "outputs": [
    {
     "name": "stdin",
     "output_type": "stream",
     "text": [
      "Enter the String t,h,i,s,o,p\n"
     ]
    },
    {
     "name": "stdout",
     "output_type": "stream",
     "text": [
      "h,i,o,p,s,t\n"
     ]
    }
   ],
   "source": [
    "UserInput = (input(\"Enter the String\"))\n",
    "\n",
    "L = [word for word in UserInput.split(',')]\n",
    "print(\",\".join(sorted(list(set(L)))))"
   ]
  },
  {
   "cell_type": "code",
   "execution_count": 55,
   "metadata": {},
   "outputs": [
    {
     "name": "stdout",
     "output_type": "stream",
     "text": [
      "['h', 'i', 'o', 'p', 's', 't']\n"
     ]
    }
   ],
   "source": [
    "#OR\n",
    "L = [word for word in UserInput.split(',')]\n",
    "L.sort()\n",
    "print(L)"
   ]
  },
  {
   "cell_type": "raw",
   "metadata": {},
   "source": [
    "4.Write a program that accepts a sequence of whitespace separated words as input and prints the words after removing all duplicate words and sorting them alphanumerically.\n",
    "\n",
    "Suppose the following input is supplied to the program:\n",
    "\n",
    "hello world and practice makes perfect and hello world again\n",
    "\n",
    "Then, the output should be:\n",
    "\n",
    "again, and hello makes perfect practice world\n"
   ]
  },
  {
   "cell_type": "code",
   "execution_count": 5,
   "metadata": {},
   "outputs": [
    {
     "name": "stdin",
     "output_type": "stream",
     "text": [
      "Enter the whitespaced separated words hello world and practice makes perfect and hello world again\n"
     ]
    },
    {
     "name": "stdout",
     "output_type": "stream",
     "text": [
      "['again', 'and', 'hello', 'makes', 'perfect', 'practice', 'world']\n"
     ]
    }
   ],
   "source": [
    "userinput = input('Enter the whitespaced separated words')\n",
    "L = [ i for i in userinput.split(' ')]\n",
    "S = set(L)\n",
    "lst = list(S)\n",
    "lst.sort()\n",
    "str_ = str(lst)\n",
    "print(str_)\n"
   ]
  },
  {
   "cell_type": "code",
   "execution_count": 6,
   "metadata": {},
   "outputs": [
    {
     "name": "stdin",
     "output_type": "stream",
     "text": [
      "Enter the whitespaced separated words hello hello again again how are how are\n"
     ]
    },
    {
     "name": "stdout",
     "output_type": "stream",
     "text": [
      "again are hello how\n"
     ]
    }
   ],
   "source": [
    "#OR\n",
    "userinput = input('Enter the whitespaced separated words')\n",
    "L = [ i for i in userinput.split(' ')]\n",
    "L1 = []\n",
    "\n",
    "for j in L:\n",
    "    if j not in L1:\n",
    "        L1.append(j)\n",
    "    else:\n",
    "        continue\n",
    "L1.sort()\n",
    "print(' '.join(L1))\n",
    "        "
   ]
  },
  {
   "cell_type": "raw",
   "metadata": {},
   "source": [
    "5.Question 5:\n",
    "Write a program that accepts a sentence and calculate the number of letters and digits.\n",
    "\n",
    "Suppose the following input is supplied to the program:\n",
    "\n",
    "hello world! 123\n",
    "\n",
    "Then, the output should be:\n",
    "\n",
    "LETTERS 10\n",
    "\n",
    "DIGITS 3\n"
   ]
  },
  {
   "cell_type": "code",
   "execution_count": 9,
   "metadata": {},
   "outputs": [
    {
     "name": "stdin",
     "output_type": "stream",
     "text": [
      "Enter the alphabet as well as number : My phone number is 9883562574\n"
     ]
    },
    {
     "name": "stdout",
     "output_type": "stream",
     "text": [
      "Letters 15\n",
      "Digits 10\n"
     ]
    }
   ],
   "source": [
    "userinput_1 = input('Enter the alphabet as well as number :')\n",
    "\n",
    "d = l = 0\n",
    "\n",
    "for i in userinput_1:\n",
    "    if i.isdigit():\n",
    "        d = d+1\n",
    "    elif i.isalpha():\n",
    "        l = l+1\n",
    "    else:\n",
    "        pass\n",
    "\n",
    "print('Letters', l)\n",
    "print('Digits', d)"
   ]
  },
  {
   "cell_type": "raw",
   "metadata": {},
   "source": [
    "A website requires the users to input username and password to register. Write a program to check the validity of password input by users.\n",
    "\n",
    "Following are the criteria for checking the password:\n",
    "\n",
    "1. At least 1 letter between [a-z]\n",
    "\n",
    "2. At least 1 number between [0-9]\n",
    "\n",
    "1. At least 1 letter between [A-Z]\n",
    "\n",
    "3. At least 1 character from [$#@]\n",
    "\n",
    "4. Minimum length of transaction password: 6\n",
    "\n",
    "5. Maximum length of transaction password: 12\n",
    "\n",
    "Your program should accept a sequence of comma separated passwords and will check them according to the above criteria. Passwords that match the criteria are to be printed, each separated by a comma.\n",
    "\n",
    "Example\n",
    "\n",
    "If the following passwords are given as input to the program:\n",
    "\n",
    "ABd1234@1,a F1#,2w3E*,2We3345\n",
    "\n",
    "Then, the output of the program should be:\n",
    "\n",
    "ABd1234@1\n"
   ]
  },
  {
   "cell_type": "code",
   "execution_count": 38,
   "metadata": {},
   "outputs": [
    {
     "name": "stdin",
     "output_type": "stream",
     "text": [
      "Enter your password thuf7\n"
     ]
    },
    {
     "name": "stdout",
     "output_type": "stream",
     "text": [
      "The password is not valid\n"
     ]
    }
   ],
   "source": [
    "import re\n",
    "userinput_2 = input('Enter your password')\n",
    "x = True \n",
    "\n",
    "while x :\n",
    "    \n",
    "    if (len(userinput_2)<6 or len(userinput_2)>12):\n",
    "        break\n",
    "    elif not re.search(\"[a-z]\",userinput_2):\n",
    "        break\n",
    "    elif not re.search('[A-Z]',userinput_2):\n",
    "        break\n",
    "    elif not re.search('[0-9]',userinput_2):\n",
    "        break\n",
    "    elif not re.search('[$#@]',userinput_2):\n",
    "        break \n",
    "    elif re.search('\\s',userinput_2):\n",
    "        break\n",
    "    else:\n",
    "        print('The password is not valid')\n",
    "        x=False\n",
    "        break\n",
    "if x :\n",
    "    print('The password is not valid')\n",
    "\n"
   ]
  },
  {
   "cell_type": "code",
   "execution_count": 39,
   "metadata": {},
   "outputs": [
    {
     "name": "stdout",
     "output_type": "stream",
     "text": [
      "There are no uppercase letters\n",
      "There are no lowercase letters\n",
      "There are no lowercase letters\n"
     ]
    }
   ],
   "source": [
    "#6.\n",
    "M = 'The entered the number is1235'\n",
    "L1 = [ i for i in M.split(',')]\n",
    "\n",
    "l = d = p =0\n",
    "for i in L1 :\n",
    "    if i.isupper():\n",
    "        l = l + 1\n",
    "        if l >= 1:\n",
    "            continue\n",
    "        else:\n",
    "            print('The length of the uppercase is not matching the standards')\n",
    "    else:\n",
    "        print('There are no uppercase letters')\n",
    "        \n",
    "    if i.islower():\n",
    "        d = d + 1\n",
    "        if d >= 1:\n",
    "            continue\n",
    "        else:\n",
    "            print('The length of the lowercase is not matching the standards')\n",
    "    else:\n",
    "        print('There are no lowercase letters')\n",
    "    if i.isdigit():\n",
    "        p = p + 1\n",
    "        if p >= 1:\n",
    "            continue\n",
    "        else:\n",
    "            print('The length of the lowercase is not matching the standards')\n",
    "    else:\n",
    "        print('There are no lowercase letters')    \n",
    "    if i in'$#@':\n",
    "        print('This is okay')\n",
    "    else:\n",
    "        pass\n",
    "\n",
    "#Can you tell me where I am going wrong in this code ?"
   ]
  },
  {
   "cell_type": "code",
   "execution_count": null,
   "metadata": {},
   "outputs": [],
   "source": []
  },
  {
   "cell_type": "code",
   "execution_count": null,
   "metadata": {},
   "outputs": [],
   "source": []
  },
  {
   "cell_type": "code",
   "execution_count": null,
   "metadata": {},
   "outputs": [],
   "source": []
  },
  {
   "cell_type": "code",
   "execution_count": null,
   "metadata": {},
   "outputs": [],
   "source": []
  },
  {
   "cell_type": "code",
   "execution_count": null,
   "metadata": {},
   "outputs": [],
   "source": []
  },
  {
   "cell_type": "code",
   "execution_count": null,
   "metadata": {},
   "outputs": [],
   "source": []
  },
  {
   "cell_type": "code",
   "execution_count": null,
   "metadata": {},
   "outputs": [],
   "source": []
  },
  {
   "cell_type": "code",
   "execution_count": null,
   "metadata": {},
   "outputs": [],
   "source": []
  },
  {
   "cell_type": "code",
   "execution_count": null,
   "metadata": {},
   "outputs": [],
   "source": []
  },
  {
   "cell_type": "code",
   "execution_count": null,
   "metadata": {},
   "outputs": [],
   "source": []
  },
  {
   "cell_type": "code",
   "execution_count": null,
   "metadata": {},
   "outputs": [],
   "source": []
  },
  {
   "cell_type": "code",
   "execution_count": null,
   "metadata": {},
   "outputs": [],
   "source": []
  },
  {
   "cell_type": "code",
   "execution_count": null,
   "metadata": {},
   "outputs": [],
   "source": []
  },
  {
   "cell_type": "code",
   "execution_count": null,
   "metadata": {},
   "outputs": [],
   "source": []
  },
  {
   "cell_type": "code",
   "execution_count": null,
   "metadata": {},
   "outputs": [],
   "source": []
  },
  {
   "cell_type": "code",
   "execution_count": null,
   "metadata": {},
   "outputs": [],
   "source": []
  },
  {
   "cell_type": "code",
   "execution_count": null,
   "metadata": {},
   "outputs": [],
   "source": []
  },
  {
   "cell_type": "code",
   "execution_count": null,
   "metadata": {},
   "outputs": [],
   "source": []
  },
  {
   "cell_type": "code",
   "execution_count": null,
   "metadata": {},
   "outputs": [],
   "source": []
  },
  {
   "cell_type": "code",
   "execution_count": null,
   "metadata": {},
   "outputs": [],
   "source": []
  },
  {
   "cell_type": "code",
   "execution_count": null,
   "metadata": {},
   "outputs": [],
   "source": []
  },
  {
   "cell_type": "code",
   "execution_count": null,
   "metadata": {},
   "outputs": [],
   "source": []
  },
  {
   "cell_type": "code",
   "execution_count": null,
   "metadata": {},
   "outputs": [],
   "source": []
  },
  {
   "cell_type": "code",
   "execution_count": null,
   "metadata": {},
   "outputs": [],
   "source": []
  },
  {
   "cell_type": "code",
   "execution_count": null,
   "metadata": {},
   "outputs": [],
   "source": []
  },
  {
   "cell_type": "code",
   "execution_count": null,
   "metadata": {},
   "outputs": [],
   "source": []
  },
  {
   "cell_type": "code",
   "execution_count": null,
   "metadata": {},
   "outputs": [],
   "source": []
  },
  {
   "cell_type": "code",
   "execution_count": null,
   "metadata": {},
   "outputs": [],
   "source": []
  },
  {
   "cell_type": "code",
   "execution_count": null,
   "metadata": {},
   "outputs": [],
   "source": []
  },
  {
   "cell_type": "code",
   "execution_count": null,
   "metadata": {},
   "outputs": [],
   "source": []
  },
  {
   "cell_type": "code",
   "execution_count": null,
   "metadata": {},
   "outputs": [],
   "source": []
  },
  {
   "cell_type": "code",
   "execution_count": null,
   "metadata": {},
   "outputs": [],
   "source": []
  },
  {
   "cell_type": "code",
   "execution_count": null,
   "metadata": {},
   "outputs": [],
   "source": []
  },
  {
   "cell_type": "code",
   "execution_count": null,
   "metadata": {},
   "outputs": [],
   "source": []
  },
  {
   "cell_type": "code",
   "execution_count": null,
   "metadata": {},
   "outputs": [],
   "source": []
  },
  {
   "cell_type": "code",
   "execution_count": null,
   "metadata": {},
   "outputs": [],
   "source": []
  },
  {
   "cell_type": "code",
   "execution_count": null,
   "metadata": {},
   "outputs": [],
   "source": []
  }
 ],
 "metadata": {
  "kernelspec": {
   "display_name": "Python 3",
   "language": "python",
   "name": "python3"
  },
  "language_info": {
   "codemirror_mode": {
    "name": "ipython",
    "version": 3
   },
   "file_extension": ".py",
   "mimetype": "text/x-python",
   "name": "python",
   "nbconvert_exporter": "python",
   "pygments_lexer": "ipython3",
   "version": "3.8.5"
  }
 },
 "nbformat": 4,
 "nbformat_minor": 4
}
