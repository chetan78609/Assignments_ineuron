{
 "cells": [
  {
   "cell_type": "raw",
   "metadata": {},
   "source": [
    "1.\tWrite a Python program to find words which are greater than given length k?\n",
    "2.\tWrite a Pystr thon program for removing i-th character from a string?\n",
    "3.\tWrite a Python program to split and join a string?\n",
    "4.\tWrite a Python to check if a given string is binary string or not?\n",
    "5.\tWrite a Python program to find uncommon words from two Strings?\n",
    "6.\tWrite a Python to find all duplicate characters in string?\n",
    "7.\tWrite a Python Program to check if a string contains any special character?\n"
   ]
  },
  {
   "cell_type": "code",
   "execution_count": 42,
   "metadata": {},
   "outputs": [
    {
     "name": "stdin",
     "output_type": "stream",
     "text": [
      "Enter the string Helicopter\n",
      "Enter the length of the string  5\n"
     ]
    },
    {
     "name": "stdout",
     "output_type": "stream",
     "text": [
      " Not Valid!\n"
     ]
    }
   ],
   "source": [
    "#1.Write a Python program to find words which are greater than given length k?\n",
    "str1 = input('Enter the string')\n",
    "length = int(input('Enter the length of the string '))\n",
    "total = 0\n",
    "\n",
    "if len(str1)<= length:\n",
    "    print(' Valid! ')\n",
    "else:\n",
    "    print(' Not Valid! ')\n",
    "\n",
    "\n",
    "    "
   ]
  },
  {
   "cell_type": "code",
   "execution_count": 61,
   "metadata": {},
   "outputs": [
    {
     "name": "stdin",
     "output_type": "stream",
     "text": [
      "Enter the string helicopter\n",
      "Enter the i-th number 2\n"
     ]
    },
    {
     "name": "stdout",
     "output_type": "stream",
     "text": [
      "heicopter\n"
     ]
    }
   ],
   "source": [
    "#2.Write a Pystr thon program for removing i-th character from a string?\n",
    "\n",
    "str1 = input('Enter the string')\n",
    "length = int(input('Enter the i-th number'))\n",
    "\n",
    "for i in range(len(l)):\n",
    "    if i == length:\n",
    "        str1 = str1.replace(str1[i],\"\",1) # Only the first occurences , that's why 1\n",
    "print(str1)\n",
    "        \n",
    "    "
   ]
  },
  {
   "cell_type": "code",
   "execution_count": 76,
   "metadata": {},
   "outputs": [
    {
     "name": "stdin",
     "output_type": "stream",
     "text": [
      "Enter the i-th term 2\n"
     ]
    },
    {
     "name": "stdout",
     "output_type": "stream",
     "text": [
      "Chtan\n"
     ]
    }
   ],
   "source": [
    "l = 'Chetan'\n",
    "i = int(input('Enter the i-th term'))\n",
    "a = l[:i]; b =l[i+1::] #Slicing Method for question no.2\n",
    "print(a+b)"
   ]
  },
  {
   "cell_type": "code",
   "execution_count": 132,
   "metadata": {},
   "outputs": [
    {
     "name": "stdout",
     "output_type": "stream",
     "text": [
      "Split String :  ['Hi', 'Chetan']\n",
      "Joined_string :  H-i- -C-h-e-t-a-n\n"
     ]
    }
   ],
   "source": [
    "#3.Write a Python program to split and join a string?\n",
    "\n",
    "L = 'Hi Chetan'\n",
    "\n",
    "L_split = L.split()\n",
    "print('Split String : ',L_split)\n",
    "\n",
    "L_join = '-'.join(L)\n",
    "print('Joined_string : ', L_join)"
   ]
  },
  {
   "cell_type": "code",
   "execution_count": 157,
   "metadata": {},
   "outputs": [],
   "source": [
    "#4.Write a Python to check if a given string is binary string or not?\n",
    "\n",
    "def binary_func(*args):\n",
    "    i = input('Enter a binary or a non-binary String :')\n",
    "    uni_ = set(i)\n",
    "    b = {'0','1'}\n",
    "    \n",
    "    if b == uni_ or uni_ == '0' or uni_ == '1':\n",
    "        return print('String is binary')\n",
    "    else:\n",
    "        return print('The string is not binary')\n",
    "    \n",
    "    \n",
    "    "
   ]
  },
  {
   "cell_type": "code",
   "execution_count": 158,
   "metadata": {},
   "outputs": [
    {
     "name": "stdin",
     "output_type": "stream",
     "text": [
      "Enter a binary or a non-binary String : 0101111100111\n"
     ]
    },
    {
     "name": "stdout",
     "output_type": "stream",
     "text": [
      "String is binary\n"
     ]
    }
   ],
   "source": [
    "binary_func()"
   ]
  },
  {
   "cell_type": "code",
   "execution_count": 168,
   "metadata": {},
   "outputs": [
    {
     "name": "stdout",
     "output_type": "stream",
     "text": [
      "['c'] ['d'] ['c'] ['c'] ['d'] "
     ]
    }
   ],
   "source": [
    "#5.Write a Python program to find uncommon words from two Strings?\n",
    "\n",
    "str_1 = 'chdchhcd'\n",
    "str_2 = 'vhuekk'\n",
    "\n",
    "for i in str_1:\n",
    "    if i not in str_2:\n",
    "        print( [i] , end =' ')\n",
    "    else:\n",
    "        pass\n"
   ]
  },
  {
   "cell_type": "code",
   "execution_count": 184,
   "metadata": {},
   "outputs": [
    {
     "name": "stdout",
     "output_type": "stream",
     "text": [
      "Duplicate characters are :  ['t', 'h', 'i', 's']\n"
     ]
    }
   ],
   "source": [
    "#6.Write a Python to find all duplicate characters in string?\n",
    "\n",
    "str_1 = 'thishhhssiisss'\n",
    "\n",
    "duplicates = []\n",
    "\n",
    "for char in str_1:\n",
    "    if str_1.count(char) > 1:\n",
    "        pass\n",
    "        # When the character count is more than 1 then pass to the next if block     \n",
    "    if char not in duplicates:\n",
    "        duplicates.append(char)\n",
    "        # When the duplicate characters are not present in the list duplicates the append it.\n",
    "print('Duplicate characters are : ' ,duplicates) \n",
    "    \n"
   ]
  },
  {
   "cell_type": "code",
   "execution_count": 217,
   "metadata": {},
   "outputs": [
    {
     "name": "stdout",
     "output_type": "stream",
     "text": [
      "There are special Characters\n"
     ]
    }
   ],
   "source": [
    "#7.Write a Python Program to check if a string contains any special character? \n",
    "\n",
    "\n",
    "\n",
    "import re \n",
    "\n",
    "def check(*args):\n",
    "    \n",
    "    str_check = re.compile('[@_!#$%^&*()<>?/\\|}{~:]')\n",
    "    \n",
    "    if (str_check.search(*args) == None) :\n",
    "        print('There are no special characters')\n",
    "    else:\n",
    "        print('There are special Characters')\n",
    "        \n",
    "        \n",
    "check('Thi__s')"
   ]
  },
  {
   "cell_type": "code",
   "execution_count": null,
   "metadata": {},
   "outputs": [],
   "source": []
  },
  {
   "cell_type": "code",
   "execution_count": null,
   "metadata": {},
   "outputs": [],
   "source": []
  },
  {
   "cell_type": "code",
   "execution_count": null,
   "metadata": {},
   "outputs": [],
   "source": []
  },
  {
   "cell_type": "code",
   "execution_count": null,
   "metadata": {},
   "outputs": [],
   "source": []
  }
 ],
 "metadata": {
  "kernelspec": {
   "display_name": "Python 3",
   "language": "python",
   "name": "python3"
  },
  "language_info": {
   "codemirror_mode": {
    "name": "ipython",
    "version": 3
   },
   "file_extension": ".py",
   "mimetype": "text/x-python",
   "name": "python",
   "nbconvert_exporter": "python",
   "pygments_lexer": "ipython3",
   "version": "3.8.5"
  }
 },
 "nbformat": 4,
 "nbformat_minor": 4
}
