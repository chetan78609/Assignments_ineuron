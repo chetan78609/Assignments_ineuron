{
 "cells": [
  {
   "cell_type": "code",
   "execution_count": null,
   "metadata": {},
   "outputs": [],
   "source": [
    "\n"
   ]
  },
  {
   "cell_type": "code",
   "execution_count": 9,
   "metadata": {},
   "outputs": [
    {
     "name": "stdin",
     "output_type": "stream",
     "text": [
      "Enter the number: 88\n"
     ]
    },
    {
     "name": "stdout",
     "output_type": "stream",
     "text": [
      "This is not a disarium number\n"
     ]
    }
   ],
   "source": [
    "#1.Write a Python program to check if the given number is a Disarium Number?\n",
    "import math \n",
    "\n",
    "\n",
    "def disarium_check(n):\n",
    "    \n",
    "    sum = 0 # Initialising a Vairiable named sum \n",
    "    \n",
    "    count_digits = len(str(n)) # Counting the digits w.r.t to their position for their respective power\n",
    "    \n",
    "    x = n  # Assigning variable x with original number\n",
    "    \n",
    "    while (x!=0): \n",
    "        \n",
    "        r = x % 10  # Finding the power of the number w.r.t their position via dividing it with 10\n",
    "        sum = (sum + math.pow(r , count_digits)) # Here r is the iterating digit that has been passed as an arguemnet \n",
    "        count_digits = count_digits - 1 # Iterating the count by substracting 1 \n",
    "        x = x//10 # Dividing the digit by 10 to iterate over the digit\n",
    "        \n",
    "    if sum == n :\n",
    "        return 1 \n",
    "    else: \n",
    "        return 0\n",
    "    \n",
    "n = int(input('Enter the number:')) \n",
    "    \n",
    "if disarium_check(n) == 1:\n",
    "    print('This is a disarium number')\n",
    "else:\n",
    "    print('This is not a disarium number')\n",
    "        \n",
    "    "
   ]
  },
  {
   "cell_type": "code",
   "execution_count": 15,
   "metadata": {},
   "outputs": [
    {
     "name": "stdout",
     "output_type": "stream",
     "text": [
      "1\n",
      "2\n",
      "3\n",
      "4\n",
      "5\n",
      "6\n",
      "7\n",
      "8\n",
      "9\n",
      "89\n"
     ]
    }
   ],
   "source": [
    "#2.Write a Python program to print all disarium numbers between 1 to 100?\n",
    "\n",
    "def disarium_check(n):\n",
    "    \n",
    "    sum = 0 # Initialising a Vairiable named sum \n",
    "    \n",
    "    count_digits = len(str(n)) # Counting the digits w.r.t to their position for their respective power\n",
    "    \n",
    "    x = n  # Assigning variable x with original number\n",
    "    \n",
    "    while (x!=0): \n",
    "        \n",
    "        r = x % 10  # Finding the power of the number w.r.t their position via dividing it with 10\n",
    "        sum = (sum + math.pow(r , count_digits)) # Here r is the iterating digit that has been passed as an arguemnet \n",
    "        count_digits = count_digits - 1 # Iterating the count by substracting 1 \n",
    "        x = x//10 # Dividing the digit by 10 to iterate over the digit\n",
    "        \n",
    "    if sum == n :\n",
    "        return 1 \n",
    "    else: \n",
    "        return 0\n",
    "    \n",
    "for i in range(1,101):\n",
    "    if disarium_check(i) == 1:\n",
    "        print(i)\n",
    "    else:\n",
    "        pass\n"
   ]
  },
  {
   "cell_type": "code",
   "execution_count": 39,
   "metadata": {},
   "outputs": [
    {
     "name": "stdin",
     "output_type": "stream",
     "text": [
      "Enter the number to check : 32\n"
     ]
    },
    {
     "name": "stdout",
     "output_type": "stream",
     "text": [
      "I am happy\n"
     ]
    }
   ],
   "source": [
    "#3.Write a Python program to check if the given number is Happy Number?\n",
    "\n",
    "import math\n",
    "\n",
    "def happy_check(n):\n",
    "    rem = 0\n",
    "    sum = 0\n",
    "    x = n\n",
    "    \n",
    "    while x>0:\n",
    "        rem = x%10\n",
    "        sum = sum + math.pow(rem,2)\n",
    "        x = x//10\n",
    "        \n",
    "    return sum\n",
    "\n",
    "n = int(input('Enter the number to check :'))\n",
    "result = n \n",
    "\n",
    "while (result != 1 and result != 4):\n",
    "    result = happy_check(result)\n",
    "    \n",
    "if result == 1:\n",
    "    print('I am happy')\n",
    "elif result == 4:\n",
    "    print('I am not happy')\n",
    "else:\n",
    "    pass\n",
    "\n",
    "\n",
    "\n",
    "\n",
    "\n",
    "\n",
    "\n"
   ]
  },
  {
   "cell_type": "code",
   "execution_count": 51,
   "metadata": {},
   "outputs": [
    {
     "name": "stdout",
     "output_type": "stream",
     "text": [
      "1 7 10 13 19 23 28 31 32 44 49 68 70 79 82 86 91 94 97 "
     ]
    }
   ],
   "source": [
    "#4.Write a Python program to print all happy numbers between 1 and 100?\n",
    "\n",
    "import math\n",
    "\n",
    "def happy_check(n):\n",
    "    rem = 0\n",
    "    sum = 0\n",
    "    x = n\n",
    "    \n",
    "    while x>0:\n",
    "        rem = x%10\n",
    "        sum = sum + math.pow(rem,2)\n",
    "        x = x//10\n",
    "        \n",
    "    return sum\n",
    "\n",
    "for i in range(1,100):\n",
    "    result = i\n",
    "\n",
    "    while (result != 1 and result != 4):\n",
    "        result = happy_check(result)\n",
    "    \n",
    "    if result == 1:\n",
    "        print(i, end = ' ')"
   ]
  },
  {
   "cell_type": "code",
   "execution_count": 65,
   "metadata": {},
   "outputs": [
    {
     "name": "stdout",
     "output_type": "stream",
     "text": [
      "Yes\n",
      "No\n"
     ]
    }
   ],
   "source": [
    "#5.Write a Python program to determine whether the given number is a Harshad Number?\n",
    "\n",
    "def harshad_check(n):\n",
    "\n",
    "    #n = int(input('Enter the number'))\n",
    "\n",
    "    sum = 0\n",
    "\n",
    "    x = n \n",
    "\n",
    "    while x > 0:\n",
    "    \n",
    "        rem = x%10\n",
    "        sum = sum + rem\n",
    "        x = x//10\n",
    "    \n",
    "    return n%sum == 0\n",
    "    \n",
    "if(harshad_check(12)) : print(\"Yes\")\n",
    "else : print (\"No\")\n",
    "\n",
    "if (harshad_check(15)) : print(\"Yes\")\n",
    "else : print (\"No\")\n",
    "\n",
    "\n"
   ]
  },
  {
   "cell_type": "code",
   "execution_count": 71,
   "metadata": {},
   "outputs": [
    {
     "name": "stdout",
     "output_type": "stream",
     "text": [
      "2\n",
      "6\n",
      "12\n",
      "20\n",
      "30\n",
      "42\n",
      "56\n",
      "72\n",
      "90\n"
     ]
    }
   ],
   "source": [
    "#6.Write a Python program to print all pronic numbers between 1 and 100?\n",
    "\n",
    "def pron_test(n):\n",
    "    flag = False\n",
    "    \n",
    "    for i in range(1,n+1):\n",
    "        if (i*(i+1) == n):\n",
    "            flag = True\n",
    "            break\n",
    "    return flag\n",
    "\n",
    "for i in range(1,101):\n",
    "    if (pron_test(i)):\n",
    "        print(i)\n",
    "    else:\n",
    "        pass\n",
    "        \n"
   ]
  },
  {
   "cell_type": "code",
   "execution_count": null,
   "metadata": {},
   "outputs": [],
   "source": [
    " "
   ]
  },
  {
   "cell_type": "code",
   "execution_count": null,
   "metadata": {},
   "outputs": [],
   "source": []
  },
  {
   "cell_type": "code",
   "execution_count": null,
   "metadata": {},
   "outputs": [],
   "source": []
  },
  {
   "cell_type": "code",
   "execution_count": null,
   "metadata": {},
   "outputs": [],
   "source": []
  },
  {
   "cell_type": "code",
   "execution_count": null,
   "metadata": {},
   "outputs": [],
   "source": []
  },
  {
   "cell_type": "code",
   "execution_count": null,
   "metadata": {},
   "outputs": [],
   "source": []
  },
  {
   "cell_type": "code",
   "execution_count": null,
   "metadata": {},
   "outputs": [],
   "source": []
  },
  {
   "cell_type": "code",
   "execution_count": null,
   "metadata": {},
   "outputs": [],
   "source": []
  }
 ],
 "metadata": {
  "kernelspec": {
   "display_name": "Python 3",
   "language": "python",
   "name": "python3"
  },
  "language_info": {
   "codemirror_mode": {
    "name": "ipython",
    "version": 3
   },
   "file_extension": ".py",
   "mimetype": "text/x-python",
   "name": "python",
   "nbconvert_exporter": "python",
   "pygments_lexer": "ipython3",
   "version": "3.8.5"
  }
 },
 "nbformat": 4,
 "nbformat_minor": 4
}
