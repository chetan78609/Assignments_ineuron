{
 "cells": [
  {
   "cell_type": "code",
   "execution_count": null,
   "metadata": {},
   "outputs": [],
   "source": []
  },
  {
   "cell_type": "code",
   "execution_count": 26,
   "metadata": {},
   "outputs": [
    {
     "name": "stdout",
     "output_type": "stream",
     "text": [
      "[14, 15, 10]\n",
      "[15, 12, 12]\n",
      "[13, 13, 18]\n"
     ]
    }
   ],
   "source": [
    "#1.Write a Python Program to Add Two Matrices?\n",
    "\n",
    "# Program to add two matrices using nested loop\n",
    "\n",
    "X = [[9,7,9],\n",
    "     [9,5,9],\n",
    "     [9,8,9]]\n",
    "\n",
    "Y = [[5,8,1],\n",
    "     [6,7,3],\n",
    "     [4,5,9]]\n",
    "\n",
    "result = [[0,0,0],\n",
    "          [0,0,0],\n",
    "          [0,0,0]]\n",
    "\n",
    "#iterating through the rows :\n",
    "for i in range(len(X)):\n",
    "    # iterating through the columns:\n",
    "    for j in range(len(X[i])):\n",
    "        result[i][j] = X[i][j] + Y[i][j]\n",
    "\n",
    "for r in result:\n",
    "    print(r)\n"
   ]
  },
  {
   "cell_type": "code",
   "execution_count": 28,
   "metadata": {},
   "outputs": [
    {
     "name": "stdout",
     "output_type": "stream",
     "text": [
      "[45, 56, 9]\n",
      "[54, 35, 27]\n",
      "[36, 40, 81]\n"
     ]
    }
   ],
   "source": [
    "#2.Write a Python Program to Multiply Two Matrices?\n",
    "X = [[9,7,9],\n",
    "     [9,5,9],\n",
    "     [9,8,9]]\n",
    "\n",
    "Y = [[5,8,1],\n",
    "     [6,7,3],\n",
    "     [4,5,9]]\n",
    "\n",
    "result = [[_,_,_],\n",
    "          [_,_,_],\n",
    "          [_,_,_]]\n",
    "\n",
    "#iterating the rows :\n",
    "for i in range(len(X)):\n",
    "    #iterating the columns:\n",
    "    for j in range(len(X[i])):\n",
    "        result[i][j] = (X[i][j])*(Y[i][j])\n",
    "        \n",
    "for r in result:\n",
    "    print(r)"
   ]
  },
  {
   "cell_type": "code",
   "execution_count": 44,
   "metadata": {},
   "outputs": [
    {
     "name": "stdout",
     "output_type": "stream",
     "text": [
      "[1, 2]\n",
      "[2, 4]\n",
      "[6, 9]\n"
     ]
    }
   ],
   "source": [
    "#3. Write a Python Program to Transpose a Matrix\n",
    "\n",
    "A = [[1,2,6],\n",
    "      [2,4,9]]\n",
    "\n",
    "B = [[_,_],\n",
    "     [_,_],\n",
    "     [_,_]]\n",
    "\n",
    "#iterating over rows:\n",
    "for i in range(len(A)):\n",
    "    #iterating over columns\n",
    "    for j in range(len(A[i])):\n",
    "        \n",
    "        B[j][i] = A[i][j] # \n",
    "        \n",
    "for i in B:\n",
    "    print(i)\n",
    "    "
   ]
  },
  {
   "cell_type": "code",
   "execution_count": 119,
   "metadata": {},
   "outputs": [
    {
     "name": "stdout",
     "output_type": "stream",
     "text": [
      "The brown dog fox jumps lazy over quick the "
     ]
    }
   ],
   "source": [
    "#4.Write a Python Program to Sort Words in Alphabetic Order?\n",
    "\n",
    "P = 'The quick brown fox jumps over the lazy dog'\n",
    "\n",
    " \n",
    "words = P.split() #It returns the word in the string in a list as individual words\n",
    "\n",
    "words.sort() #Sorting the list \n",
    "\n",
    "for word in words: \n",
    "    print(word, end =' ')"
   ]
  },
  {
   "cell_type": "code",
   "execution_count": 134,
   "metadata": {},
   "outputs": [
    {
     "name": "stdin",
     "output_type": "stream",
     "text": [
      "Enter the string ?';{];';the dog is ;;';'[awake\n"
     ]
    },
    {
     "name": "stdout",
     "output_type": "stream",
     "text": [
      "the dog is awake\n"
     ]
    }
   ],
   "source": [
    "#5.Write a Python Program to Remove Punctuation From a String?\n",
    "#input('Enter the String with panctuation') \n",
    "string = input(\"Enter the string\")\n",
    "\n",
    "punctuation = '''`~!@#$%^&*(){}[];:'\".,/?'''\n",
    "\n",
    "for char in string:\n",
    "    if char in punctuation:\n",
    "        string = string.replace(char,\"\")\n",
    "\n",
    "print(string)\n",
    "\n",
    "\n",
    "\n"
   ]
  },
  {
   "cell_type": "code",
   "execution_count": 142,
   "metadata": {},
   "outputs": [
    {
     "name": "stdin",
     "output_type": "stream",
     "text": [
      "Enter the string The --[]']/ differe,;'nce is u;';'s\n"
     ]
    },
    {
     "name": "stdout",
     "output_type": "stream",
     "text": [
      "The  difference is us\n"
     ]
    }
   ],
   "source": [
    "string = input('Enter the string')\n",
    "\n",
    "punctuation = '''-`~!@#$%^&*(){}[];:'\".,/?'''\n",
    "\n",
    "no_punc =''\n",
    "\n",
    "for char in string:\n",
    "    if char not in punctuation:\n",
    "        no_punc = no_punc + char \n",
    "print(no_punc)"
   ]
  },
  {
   "cell_type": "code",
   "execution_count": null,
   "metadata": {},
   "outputs": [],
   "source": []
  },
  {
   "cell_type": "code",
   "execution_count": null,
   "metadata": {},
   "outputs": [],
   "source": [
    "\n",
    "\n"
   ]
  },
  {
   "cell_type": "code",
   "execution_count": null,
   "metadata": {},
   "outputs": [],
   "source": []
  },
  {
   "cell_type": "code",
   "execution_count": null,
   "metadata": {},
   "outputs": [],
   "source": []
  },
  {
   "cell_type": "code",
   "execution_count": 4,
   "metadata": {},
   "outputs": [
    {
     "data": {
      "text/plain": [
       "1"
      ]
     },
     "execution_count": 4,
     "metadata": {},
     "output_type": "execute_result"
    }
   ],
   "source": []
  },
  {
   "cell_type": "code",
   "execution_count": null,
   "metadata": {},
   "outputs": [],
   "source": []
  }
 ],
 "metadata": {
  "kernelspec": {
   "display_name": "Python 3",
   "language": "python",
   "name": "python3"
  },
  "language_info": {
   "codemirror_mode": {
    "name": "ipython",
    "version": 3
   },
   "file_extension": ".py",
   "mimetype": "text/x-python",
   "name": "python",
   "nbconvert_exporter": "python",
   "pygments_lexer": "ipython3",
   "version": "3.8.5"
  }
 },
 "nbformat": 4,
 "nbformat_minor": 4
}
