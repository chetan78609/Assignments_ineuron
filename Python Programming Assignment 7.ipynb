{
 "cells": [
  {
   "cell_type": "code",
   "execution_count": null,
   "metadata": {},
   "outputs": [],
   "source": [
    "1.\tWrite a Python Program to find sum of array?\n",
    "2.\tWrite a Python Program to find largest element in an array?\n",
    "3.\tWrite a Python Program for array rotation?\n",
    "4.\tWrite a Python Program to Split the array and add the first part to the end?\n",
    "5.\tWrite a Python Program to check if given array is Monotonic?\n"
   ]
  },
  {
   "cell_type": "code",
   "execution_count": 13,
   "metadata": {},
   "outputs": [
    {
     "name": "stdout",
     "output_type": "stream",
     "text": [
      "405\n"
     ]
    }
   ],
   "source": [
    "#1.Write a Python Program to find sum of array?\n",
    "\n",
    "student_marks = [85,78,99,77,66]\n",
    "\n",
    "total = 0\n",
    "\n",
    "for i in range(0, len(student_marks)):\n",
    "    total = total + student_marks[i] \n",
    "\n",
    "\n",
    "print(total)"
   ]
  },
  {
   "cell_type": "code",
   "execution_count": 9,
   "metadata": {},
   "outputs": [
    {
     "name": "stdout",
     "output_type": "stream",
     "text": [
      "99\n"
     ]
    }
   ],
   "source": [
    "#2.Write a Python Program to find largest element in an array?\n",
    "\n",
    "student_marks = [85,78,99,77,66]\n",
    "\n",
    "\n",
    "\n",
    "for i in range(0,len(student_marks)):\n",
    "    \n",
    "    if student_marks[i] == max(student_marks):\n",
    "        print(student_marks[i])\n",
    "    else:\n",
    "        pass"
   ]
  },
  {
   "cell_type": "code",
   "execution_count": null,
   "metadata": {},
   "outputs": [],
   "source": [
    "#3.Write a Python Program for array rotation?"
   ]
  },
  {
   "cell_type": "code",
   "execution_count": 11,
   "metadata": {},
   "outputs": [
    {
     "name": "stdin",
     "output_type": "stream",
     "text": [
      "Enter the no. of rotations :  10\n"
     ]
    },
    {
     "name": "stdout",
     "output_type": "stream",
     "text": [
      "[69, 85, 78, 99, 77, 66, 77, 88, 99, 77]\n",
      "[77, 69, 85, 78, 99, 77, 66, 77, 88, 99]\n",
      "[99, 77, 69, 85, 78, 99, 77, 66, 77, 88]\n",
      "[88, 99, 77, 69, 85, 78, 99, 77, 66, 77]\n",
      "[77, 88, 99, 77, 69, 85, 78, 99, 77, 66]\n",
      "[66, 77, 88, 99, 77, 69, 85, 78, 99, 77]\n",
      "[77, 66, 77, 88, 99, 77, 69, 85, 78, 99]\n",
      "[99, 77, 66, 77, 88, 99, 77, 69, 85, 78]\n",
      "[78, 99, 77, 66, 77, 88, 99, 77, 69, 85]\n",
      "[85, 78, 99, 77, 66, 77, 88, 99, 77, 69]\n"
     ]
    }
   ],
   "source": [
    "student_marks = [85,78,99,77,66,77,88,99,77,69]\n",
    "\n",
    "n = int(input('Enter the no. of rotations : '))\n",
    "\n",
    "for i in range(n):\n",
    "    student_marks = student_marks[len(student_marks)-1:] + student_marks[:len(student_marks)-1]\n",
    "    print(student_marks)"
   ]
  },
  {
   "cell_type": "code",
   "execution_count": 20,
   "metadata": {},
   "outputs": [
    {
     "name": "stdin",
     "output_type": "stream",
     "text": [
      "Enter the no. of rotations 6\n"
     ]
    },
    {
     "name": "stdout",
     "output_type": "stream",
     "text": [
      "[69, 85, 78, 99, 77, 66, 77, 88, 99, 77]\n",
      "[77, 69, 85, 78, 99, 77, 66, 77, 88, 99]\n",
      "[99, 77, 69, 85, 78, 99, 77, 66, 77, 88]\n",
      "[88, 99, 77, 69, 85, 78, 99, 77, 66, 77]\n",
      "[77, 88, 99, 77, 69, 85, 78, 99, 77, 66]\n",
      "[66, 77, 88, 99, 77, 69, 85, 78, 99, 77]\n"
     ]
    }
   ],
   "source": [
    "L = [85,78,99,77,66,77,88,99,77,69]\n",
    "\n",
    "n = int(input('Enter the no. of rotations'))\n",
    "\n",
    "for i in range(n):\n",
    "    temp = L[len(L)-1]    #Storing the last Variable in the last index\n",
    "    for j in range(len(L)-1,-1,-1): # Decrementing by -1 and step size is -1 \n",
    "        L[j] = L[j-1] \n",
    "    L[0]=temp              # First index of L is assigned to temp variable\n",
    "    print(L)\n",
    "    "
   ]
  },
  {
   "cell_type": "code",
   "execution_count": 103,
   "metadata": {},
   "outputs": [
    {
     "name": "stdout",
     "output_type": "stream",
     "text": [
      "12 9 6 8 7 "
     ]
    }
   ],
   "source": [
    "#4.Write a Python Program to Split the array and add the first part to the end\n",
    "\n",
    "# a = array \n",
    "# n = len(array)\n",
    "# k = position\n",
    "\n",
    "\n",
    "\n",
    "def splitArray(a,n,k):\n",
    "    b = a[:k:]\n",
    "    return (b + a[2::])\n",
    "\n",
    "arr = [12,9,6,8,7]\n",
    "n = len(arr)\n",
    "k = 2\n",
    "\n",
    "arr = splitArray(arr,n,k)\n",
    "\n",
    "for i in range(0,n):\n",
    "    print(arr[i], end=' ')\n",
    "\n",
    "\n",
    "        "
   ]
  },
  {
   "cell_type": "code",
   "execution_count": null,
   "metadata": {},
   "outputs": [],
   "source": []
  },
  {
   "cell_type": "code",
   "execution_count": null,
   "metadata": {},
   "outputs": [],
   "source": []
  },
  {
   "cell_type": "code",
   "execution_count": null,
   "metadata": {},
   "outputs": [],
   "source": []
  },
  {
   "cell_type": "code",
   "execution_count": null,
   "metadata": {},
   "outputs": [],
   "source": []
  },
  {
   "cell_type": "code",
   "execution_count": null,
   "metadata": {},
   "outputs": [],
   "source": []
  },
  {
   "cell_type": "code",
   "execution_count": null,
   "metadata": {},
   "outputs": [],
   "source": []
  },
  {
   "cell_type": "code",
   "execution_count": null,
   "metadata": {},
   "outputs": [],
   "source": []
  }
 ],
 "metadata": {
  "kernelspec": {
   "display_name": "Python 3",
   "language": "python",
   "name": "python3"
  },
  "language_info": {
   "codemirror_mode": {
    "name": "ipython",
    "version": 3
   },
   "file_extension": ".py",
   "mimetype": "text/x-python",
   "name": "python",
   "nbconvert_exporter": "python",
   "pygments_lexer": "ipython3",
   "version": "3.8.5"
  }
 },
 "nbformat": 4,
 "nbformat_minor": 4
}
