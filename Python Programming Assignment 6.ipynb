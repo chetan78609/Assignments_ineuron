{
 "cells": [
  {
   "cell_type": "code",
   "execution_count": null,
   "metadata": {},
   "outputs": [],
   "source": []
  },
  {
   "cell_type": "code",
   "execution_count": 28,
   "metadata": {},
   "outputs": [
    {
     "name": "stdout",
     "output_type": "stream",
     "text": [
      "34\n"
     ]
    }
   ],
   "source": [
    "#1.Write a Python Program to Display Fibonacci Sequence Using Recursion?\n",
    "def fibonacci(n):\n",
    "    \n",
    "    if n < 0:  #Checking if the number is less than 0 then the entered number is incorrect.\n",
    "        print('Enter correct input')\n",
    "        \n",
    "    elif n == 0: # Checking if the number is zero\n",
    "        return 0\n",
    "    elif n == 1: # checking if the number is 1\n",
    "        return 1\n",
    "    else:\n",
    "        return fibonacci(n-1) + fibonacci(n-2) #Calling the function again, this is recursion.\n",
    "\n",
    "print(fibonacci(9))"
   ]
  },
  {
   "cell_type": "code",
   "execution_count": 31,
   "metadata": {},
   "outputs": [
    {
     "name": "stdout",
     "output_type": "stream",
     "text": [
      "362880\n"
     ]
    }
   ],
   "source": [
    "#2.Write a Python Program to Find Factorial of Number Using Recursion?\n",
    "\n",
    "def fact(n):\n",
    "    \n",
    "    if n < 0:\n",
    "        return ('Enter a correct Input')\n",
    "    elif n == 1 :\n",
    "        return 1\n",
    "    else:\n",
    "        return(n * fact(n-1))\n",
    "    \n",
    "print(fact(9))"
   ]
  },
  {
   "cell_type": "code",
   "execution_count": 37,
   "metadata": {},
   "outputs": [
    {
     "name": "stdin",
     "output_type": "stream",
     "text": [
      "Enter height in meters : 1.82\n",
      "Enter weight in kg : 81\n"
     ]
    },
    {
     "name": "stdout",
     "output_type": "stream",
     "text": [
      "Your Body mass index is : 24.453568409612362\n",
      "Healthy\n"
     ]
    }
   ],
   "source": [
    "#3.Write a Python Program to calculate your Body Mass Index?\n",
    "\n",
    "height = float(input('Enter height in meters :'))\n",
    "weight = float(input('Enter weight in kg :'))\n",
    "\n",
    "bmi = (weight/height**2)\n",
    "print('Your Body mass index is :', bmi)\n",
    "\n",
    "if (bmi < 16):\n",
    "    print(\"Severly Underweight\")\n",
    "elif (bmi >= 16 and bmi <= 18.5):\n",
    "    print('Underweight')\n",
    "elif (bmi >= 18.5 and bmi <= 25):\n",
    "    print('Healthy')\n",
    "elif (bmi >= 25 and bmi <= 30):\n",
    "    print('Overweight')\n",
    "else:\n",
    "    (bmi > 30)\n",
    "    print('Severly Underweight')"
   ]
  },
  {
   "cell_type": "code",
   "execution_count": 39,
   "metadata": {},
   "outputs": [
    {
     "name": "stdin",
     "output_type": "stream",
     "text": [
      "Enter the number to find natural log :  9\n"
     ]
    },
    {
     "name": "stdout",
     "output_type": "stream",
     "text": [
      "2.1972245773362196\n"
     ]
    }
   ],
   "source": [
    "#4.Write a Python Program to calculate the natural logarithm of any number?\n",
    "\n",
    "import math\n",
    "\n",
    "n = int(input('Enter the number to find natural log : '))\n",
    "\n",
    "print(math.log(9))"
   ]
  },
  {
   "cell_type": "code",
   "execution_count": 43,
   "metadata": {},
   "outputs": [
    {
     "name": "stdin",
     "output_type": "stream",
     "text": [
      "Enter the number 5\n"
     ]
    },
    {
     "name": "stdout",
     "output_type": "stream",
     "text": [
      "125\n"
     ]
    }
   ],
   "source": [
    "#5.Write a Python Program for cube sum of first n natural numbers?\n",
    "\n",
    "#a = 1 #First natural number \n",
    "n = int(input('Enter the number'))\n",
    "\n",
    "while True:\n",
    "    if n == 0: \n",
    "        print('Enter a correct Input')\n",
    "        \n",
    "    elif n == 1:\n",
    "        print('1')\n",
    "        \n",
    "    else:\n",
    "        print(n**3)\n",
    "    break\n",
    "    \n",
    "    \n",
    "    "
   ]
  },
  {
   "cell_type": "code",
   "execution_count": null,
   "metadata": {},
   "outputs": [],
   "source": []
  },
  {
   "cell_type": "code",
   "execution_count": null,
   "metadata": {},
   "outputs": [],
   "source": []
  },
  {
   "cell_type": "code",
   "execution_count": null,
   "metadata": {},
   "outputs": [],
   "source": []
  },
  {
   "cell_type": "code",
   "execution_count": null,
   "metadata": {},
   "outputs": [],
   "source": []
  }
 ],
 "metadata": {
  "kernelspec": {
   "display_name": "Python 3",
   "language": "python",
   "name": "python3"
  },
  "language_info": {
   "codemirror_mode": {
    "name": "ipython",
    "version": 3
   },
   "file_extension": ".py",
   "mimetype": "text/x-python",
   "name": "python",
   "nbconvert_exporter": "python",
   "pygments_lexer": "ipython3",
   "version": "3.8.5"
  }
 },
 "nbformat": 4,
 "nbformat_minor": 4
}
